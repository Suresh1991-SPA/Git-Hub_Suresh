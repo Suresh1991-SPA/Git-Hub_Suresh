{
 "cells": [
  {
   "cell_type": "markdown",
   "id": "ae0c4314-8221-4655-8b35-6abf1cc1d6fc",
   "metadata": {},
   "source": [
    "## FILE HANDLING\n",
    "\n",
    "You can create,read,write and append data to files etc\n",
    "\n",
    "why?\n",
    "\n",
    "- Store data permanently\n",
    "- Share data between programs\n",
    "- Read data from external sources\n",
    "\n",
    "Types of Files\n",
    "- Text files - .txt, .csv, .log, .py, .html,\n",
    "- Binary files - .jpg, .pdf, .exe, .mp3\n",
    "\n",
    "Operation\n",
    "- Open a file - open()\n",
    "- Read from file - read()\n",
    "- Write to file - write()\n",
    "- close a file - close()\n",
    "\n",
    "File modes\n",
    "\n",
    "- r - read\n",
    "- w - write\n",
    "- a - append (add to the last)\n",
    "- b - binary mode\n",
    "- x - create\n",
    "- \"+\" - read and write"
   ]
  },
  {
   "cell_type": "code",
   "execution_count": 3,
   "id": "3963d316-7029-496e-9125-ab3c8a28b2cf",
   "metadata": {},
   "outputs": [
    {
     "name": "stdout",
     "output_type": "stream",
     "text": [
      "I'm Suresh\n",
      "happy to see you guysðŸ˜Š\n"
     ]
    }
   ],
   "source": [
    "file = open('Sample.txt' ,'r')\n",
    "print(file.read())\n",
    "file.close()"
   ]
  },
  {
   "cell_type": "code",
   "execution_count": 7,
   "id": "fefa396d-2d77-4345-97fd-0da410e0b2ff",
   "metadata": {},
   "outputs": [],
   "source": [
    "f = open('Sample.txt' ,'w')\n",
    "f.write('Hi Student, back to school')\n",
    "f.close()"
   ]
  },
  {
   "cell_type": "code",
   "execution_count": 11,
   "id": "a8778606-3d3b-4b87-8e6c-aeb1179b7189",
   "metadata": {},
   "outputs": [],
   "source": [
    "f = open('Sample.txt' ,'a')\n",
    "f.write('\\n Welcome Suresh')\n",
    "f.close()"
   ]
  },
  {
   "cell_type": "code",
   "execution_count": 14,
   "id": "d25ed61e-b6f8-41d2-91c0-d86867da17e0",
   "metadata": {},
   "outputs": [
    {
     "name": "stdout",
     "output_type": "stream",
     "text": [
      "Hi Student, back to school\n",
      " Welcome Suresh\\n Welcome Suresh\n",
      "n Welcome Suresh\n",
      " Welcome Suresh\n"
     ]
    }
   ],
   "source": [
    "with open('Sample.txt' ,'r') as f: # Automatically closes the file after used\n",
    "    print(f.read())"
   ]
  },
  {
   "cell_type": "code",
   "execution_count": 15,
   "id": "9d95a101-a9e0-4d89-b967-40345d3a2be2",
   "metadata": {},
   "outputs": [
    {
     "name": "stdout",
     "output_type": "stream",
     "text": [
      "Hi Student, back to school\n",
      "\n"
     ]
    }
   ],
   "source": [
    "with open('Sample.txt' ,'r') as f: # It will do read first line\n",
    "    print(f.readline())"
   ]
  },
  {
   "cell_type": "code",
   "execution_count": 16,
   "id": "cc83ed2c-ffae-44eb-8770-6ff82bf60a1d",
   "metadata": {},
   "outputs": [
    {
     "name": "stdout",
     "output_type": "stream",
     "text": [
      "['Hi Student, back to school\\n', ' Welcome Suresh\\\\n Welcome Suresh\\n', 'n Welcome Suresh\\n', ' Welcome Suresh']\n"
     ]
    }
   ],
   "source": [
    "with open('Sample.txt' ,'r') as f: # Read all lines into list\n",
    "    print(f.readlines())"
   ]
  },
  {
   "cell_type": "code",
   "execution_count": null,
   "id": "50b9c293-2702-4732-9f54-eb2c27c532b6",
   "metadata": {},
   "outputs": [
    {
     "name": "stdin",
     "output_type": "stream",
     "text": [
      "Enter your student name Amal Joy\n",
      "Enter your student name Rama reddy\n",
      "Enter your student name Kamal\n"
     ]
    }
   ],
   "source": [
    "while(True):\n",
    "    f = open('Sample.txt' ,'a')\n",
    "    attendee = input(\"Enter your student name:\")\n",
    "    f.write(\"\\n\" + attendee)\n",
    "    f.close()"
   ]
  },
  {
   "cell_type": "markdown",
   "id": "15298657-2387-415e-b673-3c1ee2b4f9d6",
   "metadata": {},
   "source": [
    "## TELL - Return the current position of pointer in file"
   ]
  },
  {
   "cell_type": "code",
   "execution_count": 1,
   "id": "760c3de6-3c15-4a8e-b33d-527ae7848c4d",
   "metadata": {},
   "outputs": [
    {
     "data": {
      "text/plain": [
       "'Hi Stude'"
      ]
     },
     "execution_count": 1,
     "metadata": {},
     "output_type": "execute_result"
    }
   ],
   "source": [
    "f = open('Sample.txt' ,'r')\n",
    "f.read(8)\n",
    "       "
   ]
  },
  {
   "cell_type": "code",
   "execution_count": 2,
   "id": "c0462738-8493-46f9-b579-12e9c2d856e9",
   "metadata": {},
   "outputs": [
    {
     "data": {
      "text/plain": [
       "'nt, back t'"
      ]
     },
     "execution_count": 2,
     "metadata": {},
     "output_type": "execute_result"
    }
   ],
   "source": [
    "f.read(10)"
   ]
  },
  {
   "cell_type": "code",
   "execution_count": 3,
   "id": "36167aa2-27d0-404e-85cb-37147f60c138",
   "metadata": {},
   "outputs": [
    {
     "data": {
      "text/plain": [
       "'o school\\n Welcome '"
      ]
     },
     "execution_count": 3,
     "metadata": {},
     "output_type": "execute_result"
    }
   ],
   "source": [
    "f.read(18)"
   ]
  },
  {
   "cell_type": "code",
   "execution_count": 4,
   "id": "f6887714-93d2-4374-8c89-20b8240fcd43",
   "metadata": {},
   "outputs": [],
   "source": [
    "## SEEK - File point to a specific position"
   ]
  },
  {
   "cell_type": "code",
   "execution_count": 5,
   "id": "f606eff8-c57c-4acd-ba7e-9e151729350b",
   "metadata": {},
   "outputs": [],
   "source": [
    "f = open('Sample.txt' ,'r')"
   ]
  },
  {
   "cell_type": "code",
   "execution_count": 7,
   "id": "9b2ee025-1051-46fe-98c7-7eae2d8bb600",
   "metadata": {},
   "outputs": [
    {
     "data": {
      "text/plain": [
       "'back to school'"
      ]
     },
     "execution_count": 7,
     "metadata": {},
     "output_type": "execute_result"
    }
   ],
   "source": [
    "f.seek(12)\n",
    "f.read(14)"
   ]
  },
  {
   "cell_type": "code",
   "execution_count": 8,
   "id": "3febb997-b9b4-4c06-a30d-61f9fee15421",
   "metadata": {},
   "outputs": [
    {
     "data": {
      "text/plain": [
       "26"
      ]
     },
     "execution_count": 8,
     "metadata": {},
     "output_type": "execute_result"
    }
   ],
   "source": [
    "f.tell()"
   ]
  },
  {
   "cell_type": "code",
   "execution_count": null,
   "id": "f8712ba1-5f76-4bf5-8a21-7b03a6caf43d",
   "metadata": {},
   "outputs": [],
   "source": []
  }
 ],
 "metadata": {
  "kernelspec": {
   "display_name": "Python [conda env:base] *",
   "language": "python",
   "name": "conda-base-py"
  },
  "language_info": {
   "codemirror_mode": {
    "name": "ipython",
    "version": 3
   },
   "file_extension": ".py",
   "mimetype": "text/x-python",
   "name": "python",
   "nbconvert_exporter": "python",
   "pygments_lexer": "ipython3",
   "version": "3.12.7"
  }
 },
 "nbformat": 4,
 "nbformat_minor": 5
}
