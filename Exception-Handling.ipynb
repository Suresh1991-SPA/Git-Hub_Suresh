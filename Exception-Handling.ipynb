{
 "cells": [
  {
   "cell_type": "markdown",
   "id": "24791125-6ae2-44e4-a98e-f476fe516c99",
   "metadata": {},
   "source": [
    "## EXCEPTION HANDLING"
   ]
  },
  {
   "cell_type": "markdown",
   "id": "25e3b3c1-8ba0-4cad-85d1-67dc182d5e1d",
   "metadata": {},
   "source": [
    "It's the process of responding to the occurance of exception (error) during program execution\n",
    "\n",
    "Without exception handling:\n",
    "- your program crashes when an error occurs\n",
    "- you can't control or log what went wrong\n",
    "- User experience become poor\n",
    "\n",
    "With :\n",
    "- You can catch and handle error gracefully\n",
    "- Keep the program running even if something goes wrong\n",
    "- Make debugging and troubleshooting easier\n",
    "\n",
    "Types of errors:\n",
    "\n",
    "- Syntax error - incorrect syntax if x > 5 print(x)\n",
    "- Name error - Variable not defined - print(num) when num is undefined\n",
    "- Type error - Wrong data type used - 5 + \"hello\"\n",
    "- Value error - Roght type but inappropriate value - int('abc')\n",
    "- Index error - Index out of range - arr = [1,2] arr[3]\n",
    "- Key error - Dictionary key doesn't exist - d = {} d[x]\n",
    "- ZerodivisionError - Division by zero - 5/0\n",
    "- FilenotFound - Tring to access a file that doesn't exist\n",
    "\n",
    "Basic Structure\n",
    "try:\n",
    "    #Code that may cause and exception\n",
    "except ExceptionType:\n",
    "    #Code to if there is an exception\n",
    "else:\n",
    "    #Code to run if no exception occurs\n",
    "Finally:\n",
    "    #Code that always runs (Cleanup, Closing files etc)\n",
    "   \n",
    "  \n"
   ]
  },
  {
   "cell_type": "code",
   "execution_count": 1,
   "id": "9e07aa7e-a7d4-4f6d-86cd-dd228c0adb3b",
   "metadata": {},
   "outputs": [
    {
     "ename": "SyntaxError",
     "evalue": "invalid syntax (172466112.py, line 1)",
     "output_type": "error",
     "traceback": [
      "\u001b[1;36m  Cell \u001b[1;32mIn[1], line 1\u001b[1;36m\u001b[0m\n\u001b[1;33m    if x > 5 print(x)\u001b[0m\n\u001b[1;37m             ^\u001b[0m\n\u001b[1;31mSyntaxError\u001b[0m\u001b[1;31m:\u001b[0m invalid syntax\n"
     ]
    }
   ],
   "source": [
    "if x > 5 print(x)"
   ]
  },
  {
   "cell_type": "code",
   "execution_count": 2,
   "id": "72e0465a-41ab-48b5-a43a-3e0a38887860",
   "metadata": {},
   "outputs": [
    {
     "ename": "NameError",
     "evalue": "name 'num' is not defined",
     "output_type": "error",
     "traceback": [
      "\u001b[1;31m---------------------------------------------------------------------------\u001b[0m",
      "\u001b[1;31mNameError\u001b[0m                                 Traceback (most recent call last)",
      "Cell \u001b[1;32mIn[2], line 1\u001b[0m\n\u001b[1;32m----> 1\u001b[0m \u001b[38;5;28mprint\u001b[39m(num)\n",
      "\u001b[1;31mNameError\u001b[0m: name 'num' is not defined"
     ]
    }
   ],
   "source": [
    "print(num)"
   ]
  },
  {
   "cell_type": "code",
   "execution_count": 3,
   "id": "9d748e99-50ff-4e3c-9c64-3115542401a7",
   "metadata": {},
   "outputs": [
    {
     "ename": "TypeError",
     "evalue": "unsupported operand type(s) for +: 'int' and 'str'",
     "output_type": "error",
     "traceback": [
      "\u001b[1;31m---------------------------------------------------------------------------\u001b[0m",
      "\u001b[1;31mTypeError\u001b[0m                                 Traceback (most recent call last)",
      "Cell \u001b[1;32mIn[3], line 1\u001b[0m\n\u001b[1;32m----> 1\u001b[0m \u001b[38;5;241m5\u001b[39m \u001b[38;5;241m+\u001b[39m \u001b[38;5;124m\"\u001b[39m\u001b[38;5;124mHello\u001b[39m\u001b[38;5;124m\"\u001b[39m\n",
      "\u001b[1;31mTypeError\u001b[0m: unsupported operand type(s) for +: 'int' and 'str'"
     ]
    }
   ],
   "source": [
    "5 + \"Hello\""
   ]
  },
  {
   "cell_type": "code",
   "execution_count": 4,
   "id": "57d4c35f-191e-4520-a65a-63bea4f85cc2",
   "metadata": {},
   "outputs": [
    {
     "ename": "ValueError",
     "evalue": "invalid literal for int() with base 10: 'abc'",
     "output_type": "error",
     "traceback": [
      "\u001b[1;31m---------------------------------------------------------------------------\u001b[0m",
      "\u001b[1;31mValueError\u001b[0m                                Traceback (most recent call last)",
      "Cell \u001b[1;32mIn[4], line 1\u001b[0m\n\u001b[1;32m----> 1\u001b[0m \u001b[38;5;28mint\u001b[39m(\u001b[38;5;124m'\u001b[39m\u001b[38;5;124mabc\u001b[39m\u001b[38;5;124m'\u001b[39m)\n",
      "\u001b[1;31mValueError\u001b[0m: invalid literal for int() with base 10: 'abc'"
     ]
    }
   ],
   "source": [
    "int('abc')"
   ]
  },
  {
   "cell_type": "code",
   "execution_count": 6,
   "id": "42752b07-5abc-4afb-aa28-84876fa14111",
   "metadata": {},
   "outputs": [
    {
     "ename": "IndexError",
     "evalue": "list index out of range",
     "output_type": "error",
     "traceback": [
      "\u001b[1;31m---------------------------------------------------------------------------\u001b[0m",
      "\u001b[1;31mIndexError\u001b[0m                                Traceback (most recent call last)",
      "Cell \u001b[1;32mIn[6], line 2\u001b[0m\n\u001b[0;32m      1\u001b[0m arr \u001b[38;5;241m=\u001b[39m [\u001b[38;5;241m1\u001b[39m,\u001b[38;5;241m2\u001b[39m] \n\u001b[1;32m----> 2\u001b[0m arr[\u001b[38;5;241m3\u001b[39m]\n",
      "\u001b[1;31mIndexError\u001b[0m: list index out of range"
     ]
    }
   ],
   "source": [
    "arr = [1,2] \n",
    "arr[3]"
   ]
  },
  {
   "cell_type": "code",
   "execution_count": 10,
   "id": "d7f66e78-2f0f-4daf-a67a-b04e3424baa6",
   "metadata": {},
   "outputs": [
    {
     "ename": "KeyError",
     "evalue": "'x'",
     "output_type": "error",
     "traceback": [
      "\u001b[1;31m---------------------------------------------------------------------------\u001b[0m",
      "\u001b[1;31mKeyError\u001b[0m                                  Traceback (most recent call last)",
      "Cell \u001b[1;32mIn[10], line 2\u001b[0m\n\u001b[0;32m      1\u001b[0m d \u001b[38;5;241m=\u001b[39m {}\n\u001b[1;32m----> 2\u001b[0m d[\u001b[38;5;124m'\u001b[39m\u001b[38;5;124mx\u001b[39m\u001b[38;5;124m'\u001b[39m]\n",
      "\u001b[1;31mKeyError\u001b[0m: 'x'"
     ]
    }
   ],
   "source": [
    "d = {}\n",
    "d['x']"
   ]
  },
  {
   "cell_type": "code",
   "execution_count": 11,
   "id": "702f4b66-5879-4929-b5a5-d1b69b145e0e",
   "metadata": {},
   "outputs": [
    {
     "ename": "ZeroDivisionError",
     "evalue": "division by zero",
     "output_type": "error",
     "traceback": [
      "\u001b[1;31m---------------------------------------------------------------------------\u001b[0m",
      "\u001b[1;31mZeroDivisionError\u001b[0m                         Traceback (most recent call last)",
      "Cell \u001b[1;32mIn[11], line 1\u001b[0m\n\u001b[1;32m----> 1\u001b[0m \u001b[38;5;241m5\u001b[39m\u001b[38;5;241m/\u001b[39m\u001b[38;5;241m0\u001b[39m\n",
      "\u001b[1;31mZeroDivisionError\u001b[0m: division by zero"
     ]
    }
   ],
   "source": [
    "5/0"
   ]
  },
  {
   "cell_type": "code",
   "execution_count": 12,
   "id": "69c409e0-867a-481d-b6e1-ea00ea189be1",
   "metadata": {},
   "outputs": [
    {
     "ename": "FileNotFoundError",
     "evalue": "[Errno 2] No such file or directory: 'File.txt'",
     "output_type": "error",
     "traceback": [
      "\u001b[1;31m---------------------------------------------------------------------------\u001b[0m",
      "\u001b[1;31mFileNotFoundError\u001b[0m                         Traceback (most recent call last)",
      "Cell \u001b[1;32mIn[12], line 1\u001b[0m\n\u001b[1;32m----> 1\u001b[0m \u001b[38;5;28mopen\u001b[39m(\u001b[38;5;124m'\u001b[39m\u001b[38;5;124mFile.txt\u001b[39m\u001b[38;5;124m'\u001b[39m)\n",
      "File \u001b[1;32m~\\anaconda3\\Lib\\site-packages\\IPython\\core\\interactiveshell.py:324\u001b[0m, in \u001b[0;36m_modified_open\u001b[1;34m(file, *args, **kwargs)\u001b[0m\n\u001b[0;32m    317\u001b[0m \u001b[38;5;28;01mif\u001b[39;00m file \u001b[38;5;129;01min\u001b[39;00m {\u001b[38;5;241m0\u001b[39m, \u001b[38;5;241m1\u001b[39m, \u001b[38;5;241m2\u001b[39m}:\n\u001b[0;32m    318\u001b[0m     \u001b[38;5;28;01mraise\u001b[39;00m \u001b[38;5;167;01mValueError\u001b[39;00m(\n\u001b[0;32m    319\u001b[0m         \u001b[38;5;124mf\u001b[39m\u001b[38;5;124m\"\u001b[39m\u001b[38;5;124mIPython won\u001b[39m\u001b[38;5;124m'\u001b[39m\u001b[38;5;124mt let you open fd=\u001b[39m\u001b[38;5;132;01m{\u001b[39;00mfile\u001b[38;5;132;01m}\u001b[39;00m\u001b[38;5;124m by default \u001b[39m\u001b[38;5;124m\"\u001b[39m\n\u001b[0;32m    320\u001b[0m         \u001b[38;5;124m\"\u001b[39m\u001b[38;5;124mas it is likely to crash IPython. If you know what you are doing, \u001b[39m\u001b[38;5;124m\"\u001b[39m\n\u001b[0;32m    321\u001b[0m         \u001b[38;5;124m\"\u001b[39m\u001b[38;5;124myou can use builtins\u001b[39m\u001b[38;5;124m'\u001b[39m\u001b[38;5;124m open.\u001b[39m\u001b[38;5;124m\"\u001b[39m\n\u001b[0;32m    322\u001b[0m     )\n\u001b[1;32m--> 324\u001b[0m \u001b[38;5;28;01mreturn\u001b[39;00m io_open(file, \u001b[38;5;241m*\u001b[39margs, \u001b[38;5;241m*\u001b[39m\u001b[38;5;241m*\u001b[39mkwargs)\n",
      "\u001b[1;31mFileNotFoundError\u001b[0m: [Errno 2] No such file or directory: 'File.txt'"
     ]
    }
   ],
   "source": [
    "open('File.txt')"
   ]
  },
  {
   "cell_type": "code",
   "execution_count": 17,
   "id": "71c8e9d0-3cc1-4498-9207-77634d02de36",
   "metadata": {},
   "outputs": [
    {
     "name": "stdin",
     "output_type": "stream",
     "text": [
      "Enter a number frt\n"
     ]
    },
    {
     "name": "stdout",
     "output_type": "stream",
     "text": [
      "🔴 Inpit a valid number\n",
      "This always run no matter what\n"
     ]
    }
   ],
   "source": [
    "try:\n",
    "   num = int(input('Enter a number'))\n",
    "   result = 10/num\n",
    "except ZeroDivisionError:\n",
    "    print('Division with 0 is invalid')\n",
    "else :\n",
    "    print(result)\n",
    "finally:\n",
    "    print('This always run no matter what')\n"
   ]
  },
  {
   "cell_type": "code",
   "execution_count": 18,
   "id": "a97e68b3-521e-4b41-b11e-a28e7c188f5f",
   "metadata": {},
   "outputs": [
    {
     "name": "stdin",
     "output_type": "stream",
     "text": [
      "Enter a number 0\n"
     ]
    },
    {
     "name": "stdout",
     "output_type": "stream",
     "text": [
      "Error occured: division by zero\n",
      "This always run no matter what\n"
     ]
    }
   ],
   "source": [
    "try:\n",
    "   num = int(input('Enter a number'))\n",
    "   result = 10/num\n",
    "except ZeroDivisionError:\n",
    "    print('Division with 0 is invalid')\n",
    "except ValueError:\n",
    "    print('🔴 Input a valid number')\n",
    "except Exception as e: #Catch all the errors\n",
    "    print('Error occured:',e)    \n",
    "else :\n",
    "    print(result)\n",
    "finally:\n",
    "    print('This always run no matter what')"
   ]
  },
  {
   "cell_type": "code",
   "execution_count": 19,
   "id": "5217572a-ebd8-49a0-9195-69e937a42dd5",
   "metadata": {},
   "outputs": [
    {
     "name": "stdin",
     "output_type": "stream",
     "text": [
      "Enter a number 78\n"
     ]
    },
    {
     "name": "stdout",
     "output_type": "stream",
     "text": [
      "0.1282051282051282\n",
      "This always run no matter what\n"
     ]
    }
   ],
   "source": [
    "try:\n",
    "   num = int(input('Enter a number'))\n",
    "   result = 10/num\n",
    "except Exception as e: #Catch all the errors\n",
    "    print('Error occured:',e)\n",
    "else :\n",
    "    print(result)\n",
    "finally:\n",
    "    print('This always run no matter what')"
   ]
  },
  {
   "cell_type": "markdown",
   "id": "787f6189-2a5e-4234-bcfe-03073a2dc3fc",
   "metadata": {},
   "source": [
    "## USER DEFINED ERRORS"
   ]
  },
  {
   "cell_type": "code",
   "execution_count": 25,
   "id": "18af81e1-ffbf-48d5-9846-b215d7b1df61",
   "metadata": {},
   "outputs": [
    {
     "name": "stdin",
     "output_type": "stream",
     "text": [
      "Enter your age 41\n"
     ]
    },
    {
     "name": "stdout",
     "output_type": "stream",
     "text": [
      "You are eligible\n"
     ]
    }
   ],
   "source": [
    "class AgeTooSmallError(Exception):\n",
    "    pass\n",
    "try:\n",
    "    age = int(input('Enter your age'))\n",
    "    if age < 18:\n",
    "        raise AgeTooSmallError\n",
    "    else:\n",
    "        print('You are eligible')\n",
    "except AgeTooSmallError:\n",
    "    print('Error: Age is too small. Must be atleast 18.')"
   ]
  },
  {
   "cell_type": "code",
   "execution_count": null,
   "id": "ecee8d4e-f583-4f0b-9ee7-e0b7e4c91b3d",
   "metadata": {},
   "outputs": [],
   "source": []
  }
 ],
 "metadata": {
  "kernelspec": {
   "display_name": "Python [conda env:base] *",
   "language": "python",
   "name": "conda-base-py"
  },
  "language_info": {
   "codemirror_mode": {
    "name": "ipython",
    "version": 3
   },
   "file_extension": ".py",
   "mimetype": "text/x-python",
   "name": "python",
   "nbconvert_exporter": "python",
   "pygments_lexer": "ipython3",
   "version": "3.12.7"
  }
 },
 "nbformat": 4,
 "nbformat_minor": 5
}
